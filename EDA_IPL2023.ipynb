{
 "cells": [
  {
   "cell_type": "code",
   "execution_count": 2838,
   "id": "a8ee9ef1",
   "metadata": {},
   "outputs": [],
   "source": [
    "import streamlit as st\n",
    "import pandas as pd\n",
    "import matplotlib.pyplot as plt\n",
    "import seaborn as sns"
   ]
  },
  {
   "cell_type": "code",
   "execution_count": 2839,
   "id": "9fc2466e",
   "metadata": {},
   "outputs": [],
   "source": [
    "df = pd.read_csv('Dfbattingsummary.csv')\n"
   ]
  },
  {
   "cell_type": "code",
   "execution_count": 2840,
   "id": "c892966e",
   "metadata": {},
   "outputs": [],
   "source": [
    "df = df.rename(columns={'Unnamed: 1':'Dismissal'})"
   ]
  },
  {
   "cell_type": "code",
   "execution_count": 2841,
   "id": "c7744702",
   "metadata": {},
   "outputs": [],
   "source": [
    "df = df.drop(['Unnamed: 0'],axis=1)"
   ]
  },
  {
   "cell_type": "code",
   "execution_count": 2842,
   "id": "0457930d",
   "metadata": {},
   "outputs": [],
   "source": [
    "# I would also like to see the batsman who got dimissed by the same bowler. lets work on the column Dismissal. Make a new column for the dismissal and also mode of dismissal"
   ]
  },
  {
   "cell_type": "code",
   "execution_count": 2843,
   "id": "36c00ffa",
   "metadata": {},
   "outputs": [],
   "source": [
    "filtered_df = df[df['Dismissal'].str.startswith(('r', 'run','retired'))]\n",
    "\n"
   ]
  },
  {
   "cell_type": "code",
   "execution_count": 2844,
   "id": "584428c6",
   "metadata": {},
   "outputs": [],
   "source": [
    "#filtered_df.head(2)"
   ]
  },
  {
   "cell_type": "code",
   "execution_count": 2845,
   "id": "eb6914e3",
   "metadata": {},
   "outputs": [],
   "source": [
    "def update_dismissal(row):\n",
    "    if row['Dismissal'] == 'not out':\n",
    "        return 'not out'\n",
    "    elif row['Dismissal'].startswith('b'):\n",
    "        return 'Bowled'\n",
    "    elif row['Dismissal'].startswith('c'):\n",
    "        return 'Caught'\n",
    "    elif row['Dismissal'].startswith('lbw'):\n",
    "        return 'lbw'\n",
    "    elif row['Dismissal'].startswith('hit'):\n",
    "        return 'Hitwicket'\n",
    "    elif row['Dismissal'].startswith('retired hurt'):\n",
    "        return 'Retired hurt'\n",
    "    elif row['Dismissal'].startswith('st'):\n",
    "        return 'Stumped'\n",
    "    elif row['Dismissal'].startswith('c & b'):\n",
    "        return 'Caught & Bowled'\n",
    "    elif 'run out' in row['Dismissal']:\n",
    "        return 'Run out'\n",
    "    else:\n",
    "        return row['Dismissal']\n",
    "\n",
    "# Create new column 'Type_Dismissal' based on 'Dismissal' column values\n",
    "df['Type_Dismissal'] = df.apply(update_dismissal, axis=1)\n",
    "\n",
    "# Print the updated dataframe\n",
    "#print(df)"
   ]
  },
  {
   "cell_type": "code",
   "execution_count": 2846,
   "id": "0615ecad",
   "metadata": {},
   "outputs": [],
   "source": [
    "# I have created a new column for the mode of dismissal, Now just strip the bowler from the row Dismissal \n"
   ]
  },
  {
   "cell_type": "code",
   "execution_count": 2847,
   "id": "192aca39",
   "metadata": {},
   "outputs": [],
   "source": [
    "df['bowler'] = df['Dismissal'].apply(lambda x: x.split(' b ', 1)[-1].strip() if ' b ' in x else x.split(' ', 1)[-1].strip())\n"
   ]
  },
  {
   "cell_type": "code",
   "execution_count": 2848,
   "id": "3270d682",
   "metadata": {},
   "outputs": [],
   "source": [
    "df['bowler'] = df.apply(lambda row: 'not out' if row['Dismissal'] == 'not out' else row['bowler'], axis=1)\n"
   ]
  },
  {
   "cell_type": "code",
   "execution_count": 2849,
   "id": "aeb3562a",
   "metadata": {},
   "outputs": [],
   "source": [
    "#filtered_df2 = df[df['bowler'].str.startswith(('out'))]\n"
   ]
  },
  {
   "cell_type": "code",
   "execution_count": 2850,
   "id": "a5331a76",
   "metadata": {},
   "outputs": [],
   "source": [
    "df['bowler'] = df['bowler'].apply(lambda x: x.replace('out', ''))\n",
    "df['bowler'] = df['bowler'].apply(lambda x: x.replace('/', '&'))"
   ]
  },
  {
   "cell_type": "code",
   "execution_count": 2851,
   "id": "0fb71679",
   "metadata": {},
   "outputs": [],
   "source": [
    "df['bowler'] = df['bowler'].apply(lambda x: x.replace('not', ''))\n"
   ]
  },
  {
   "cell_type": "code",
   "execution_count": 2852,
   "id": "3745f0b2",
   "metadata": {},
   "outputs": [],
   "source": [
    "df = df.rename(columns={'R': 'Runs_Scored', 'B': 'Balls'})\n",
    "df = df.drop('M', axis=1)\n",
    "\n"
   ]
  },
  {
   "cell_type": "code",
   "execution_count": 2853,
   "id": "e0151a96",
   "metadata": {},
   "outputs": [],
   "source": [
    "df = df.rename(columns={'BATTING': 'Batsman', 'SR': 'StrikeRate'})\n"
   ]
  },
  {
   "cell_type": "code",
   "execution_count": 2854,
   "id": "777b8094",
   "metadata": {},
   "outputs": [],
   "source": [
    "df.loc[df['Type_Dismissal'] == 'not out', 'bowler'] = 'not out'"
   ]
  },
  {
   "cell_type": "code",
   "execution_count": 2855,
   "id": "d6e311ad",
   "metadata": {},
   "outputs": [],
   "source": [
    "desired_rows = df[df['Team'] == 'Sunrisers']\n"
   ]
  },
  {
   "cell_type": "code",
   "execution_count": 2856,
   "id": "50f4dc88",
   "metadata": {},
   "outputs": [],
   "source": [
    "batsman_filter = st.selectbox('Select a batsman', df['Batsman'].unique())\n",
    "team_filter = st.selectbox('Select a team', df['Team'].unique())\n",
    "Match_filter = st.selectbox('Select a Match', df['Match'].unique())\n",
    "Bowler_filter = st.selectbox('Select a bowler', df['bowler'].unique())\n",
    "Team_filter = st.selectbox('Select a Team', df['Team'].unique())\n"
   ]
  },
  {
   "cell_type": "code",
   "execution_count": 2857,
   "id": "737efdab",
   "metadata": {},
   "outputs": [],
   "source": [
    "filtered_df = df[(df['Batsman'] == batsman_filter) &\n",
    "                 (df['Team'] == team_filter) &\n",
    "                 (df['Match'] == Match_filter) &\n",
    "                 (df['bowler'] == Bowler_filter) &\n",
    "                 (df['Team'] == Team_filter)]\n"
   ]
  },
  {
   "cell_type": "markdown",
   "id": "87dc6312",
   "metadata": {},
   "source": [
    "# TOP 5 Batsman"
   ]
  },
  {
   "cell_type": "code",
   "execution_count": 2858,
   "id": "825846c5",
   "metadata": {},
   "outputs": [],
   "source": [
    "df_sorted = df.sort_values('Runs_Scored', ascending=False)\n"
   ]
  },
  {
   "cell_type": "code",
   "execution_count": 2859,
   "id": "497249dd",
   "metadata": {},
   "outputs": [],
   "source": [
    "runs_by_batsman = df.groupby('Batsman')['Runs_Scored'].sum().reset_index()\n",
    "runs_by_batsman = runs_by_batsman.sort_values('Runs_Scored', ascending=False)\n"
   ]
  },
  {
   "cell_type": "code",
   "execution_count": 2956,
   "id": "1bfce52c",
   "metadata": {},
   "outputs": [
    {
     "data": {
      "image/png": "[encoded data removed]",
      "text/plain": [
       "<Figure size 720x432 with 1 Axes>"
      ]
     },
     "metadata": {
      "needs_background": "light"
     },
     "output_type": "display_data"
    }
   ],
   "source": [
    "plt.figure(figsize=(10, 6))\n",
    "sns.barplot(data=runs_by_batsman.head(5), x='Batsman', y='Runs_Scored', ci=None)\n",
    "sns.swarmplot(data=runs_by_batsman.head(5), x='Batsman', y='Runs_Scored', color='black')\n",
    "plt.xlabel('Batsman')\n",
    "plt.ylabel('Total Runs Scored')\n",
    "plt.title('Top 5 runs scorers')\n",
    "plt.xticks(rotation=45)\n",
    "plt.show()"
   ]
  },
  {
   "cell_type": "code",
   "execution_count": 2861,
   "id": "15d194ef",
   "metadata": {},
   "outputs": [],
   "source": [
    "Most_sixes_by_batsman = df.groupby('Batsman')['6s'].sum().reset_index().sort_values('6s', ascending=False)[:10]\n",
    "Most_boundries_by_batsman = df.groupby('Batsman')['4s'].sum().reset_index().sort_values('4s', ascending=False)[:10]"
   ]
  },
  {
   "cell_type": "code",
   "execution_count": 2862,
   "id": "8338fe80",
   "metadata": {},
   "outputs": [
    {
     "data": {
      "text/plain": [
       "Index(['Batsman', '6s'], dtype='object')"
      ]
     },
     "execution_count": 2862,
     "metadata": {},
     "output_type": "execute_result"
    }
   ],
   "source": [
    "Most_sixes_by_batsman.columns"
   ]
  },
  {
   "cell_type": "markdown",
   "id": "1a9148de",
   "metadata": {},
   "source": [
    "# Most 6's in ipl 2023"
   ]
  },
  {
   "cell_type": "code",
   "execution_count": 2962,
   "id": "c31b30c6",
   "metadata": {},
   "outputs": [
    {
     "data": {
      "image/png": "[encoded data removed]",
      "text/plain": [
       "<Figure size 720x432 with 1 Axes>"
      ]
     },
     "metadata": {
      "needs_background": "light"
     },
     "output_type": "display_data"
    }
   ],
   "source": [
    "plt.figure(figsize=(10, 6))\n",
    "sns.barplot(data=Most_sixes_by_batsman.head(5), y='Batsman', x='6s', orient='h')\n",
    "plt.xlabel('6s')\n",
    "plt.ylabel('Batsman')\n",
    "plt.title('Top 5 6-s hitters')\n",
    "plt.xticks(rotation=45)\n",
    "plt.show()\n"
   ]
  },
  {
   "cell_type": "markdown",
   "id": "8890c473",
   "metadata": {},
   "source": [
    "# Most Boundaries's in ipl 2023"
   ]
  },
  {
   "cell_type": "code",
   "execution_count": 2964,
   "id": "246f6f65",
   "metadata": {},
   "outputs": [
    {
     "data": {
      "image/png": "[encoded data removed]",
      "text/plain": [
       "<Figure size 720x432 with 1 Axes>"
      ]
     },
     "metadata": {},
     "output_type": "display_data"
    }
   ],
   "source": [
    "plt.figure(figsize=(10, 6))\n",
    "plt.pie(Most_boundries_by_batsman['4s'].head(5), labels=Most_boundries_by_batsman['Batsman'].head(5), autopct='%1.1f%%', explode=[0.1, 0, 0, 0, 0])\n",
    "plt.title(\"Top 5 boundary hitters' contribution\")\n",
    "plt.show()\n"
   ]
  },
  {
   "cell_type": "code",
   "execution_count": 2868,
   "id": "30308fe1",
   "metadata": {},
   "outputs": [],
   "source": [
    "Balls_played_runs_scored = df.groupby('Batsman')[['Balls', 'Runs_Scored']].sum().reset_index().sort_values('Balls', ascending=False)"
   ]
  },
  {
   "cell_type": "code",
   "execution_count": 2870,
   "id": "eaac7f06",
   "metadata": {},
   "outputs": [],
   "source": [
    "Balls_played_runs_scored['StrikeRate'] = (Balls_played_runs_scored['Runs_Scored'] / Balls_played_runs_scored['Balls']) * 100\n"
   ]
  },
  {
   "cell_type": "code",
   "execution_count": 2871,
   "id": "034da7b4",
   "metadata": {},
   "outputs": [],
   "source": [
    "Balls_played_runs_scored = Balls_played_runs_scored[Balls_played_runs_scored['Balls'] > 140] #the condition for this batsman should have played atleast 100 balls in the totals series. "
   ]
  },
  {
   "cell_type": "code",
   "execution_count": 2872,
   "id": "21bab880",
   "metadata": {},
   "outputs": [],
   "source": [
    "Batsman_topstrikerate = Balls_played_runs_scored[['Batsman', 'StrikeRate']].copy()\n"
   ]
  },
  {
   "cell_type": "code",
   "execution_count": 2873,
   "id": "a748bc60",
   "metadata": {},
   "outputs": [],
   "source": [
    "Batsman_topstrikerate.sort_values('StrikeRate', ascending=False, inplace=True)\n"
   ]
  },
  {
   "cell_type": "code",
   "execution_count": 2874,
   "id": "1f3571ff",
   "metadata": {},
   "outputs": [],
   "source": [
    "Batsman_topstrikerate = Batsman_topstrikerate[:10]"
   ]
  },
  {
   "cell_type": "code",
   "execution_count": 2875,
   "id": "80412eb5",
   "metadata": {},
   "outputs": [],
   "source": [
    "Batsman_topstrikerate.reset_index(inplace=True)"
   ]
  },
  {
   "cell_type": "code",
   "execution_count": 2876,
   "id": "5fe11d42",
   "metadata": {},
   "outputs": [],
   "source": [
    "#Batsman_topstrikerate"
   ]
  },
  {
   "cell_type": "code",
   "execution_count": 2877,
   "id": "71cb8b80",
   "metadata": {},
   "outputs": [],
   "source": [
    "Batsman_topstrikerate.drop(['index'],axis=1,inplace=True)"
   ]
  },
  {
   "cell_type": "code",
   "execution_count": 2966,
   "id": "2cfef555",
   "metadata": {},
   "outputs": [
    {
     "data": {
      "text/html": [
       "<div>\n",
       "<style scoped>\n",
       "    .dataframe tbody tr th:only-of-type {\n",
       "        vertical-align: middle;\n",
       "    }\n",
       "\n",
       "    .dataframe tbody tr th {\n",
       "        vertical-align: top;\n",
       "    }\n",
       "\n",
       "    .dataframe thead th {\n",
       "        text-align: right;\n",
       "    }\n",
       "</style>\n",
       "<table border=\"1\" class=\"dataframe\">\n",
       "  <thead>\n",
       "    <tr style=\"text-align: right;\">\n",
       "      <th></th>\n",
       "      <th>Batsman</th>\n",
       "      <th>StrikeRate</th>\n",
       "    </tr>\n",
       "  </thead>\n",
       "  <tbody>\n",
       "    <tr>\n",
       "      <th>0</th>\n",
       "      <td>Glenn Maxwell</td>\n",
       "      <td>183.486239</td>\n",
       "    </tr>\n",
       "    <tr>\n",
       "      <th>1</th>\n",
       "      <td>Suryakumar Yadav</td>\n",
       "      <td>181.877023</td>\n",
       "    </tr>\n",
       "    <tr>\n",
       "      <th>2</th>\n",
       "      <td>Heinrich Klaasen †</td>\n",
       "      <td>177.075099</td>\n",
       "    </tr>\n",
       "    <tr>\n",
       "      <th>3</th>\n",
       "      <td>Ajinkya Rahane</td>\n",
       "      <td>172.486772</td>\n",
       "    </tr>\n",
       "    <tr>\n",
       "      <th>4</th>\n",
       "      <td>Tilak Varma</td>\n",
       "      <td>164.114833</td>\n",
       "    </tr>\n",
       "    <tr>\n",
       "      <th>5</th>\n",
       "      <td>Yashasvi Jaiswal</td>\n",
       "      <td>163.612565</td>\n",
       "    </tr>\n",
       "    <tr>\n",
       "      <th>6</th>\n",
       "      <td>Nicholas Pooran †</td>\n",
       "      <td>163.333333</td>\n",
       "    </tr>\n",
       "    <tr>\n",
       "      <th>7</th>\n",
       "      <td>Liam Livingstone</td>\n",
       "      <td>163.157895</td>\n",
       "    </tr>\n",
       "    <tr>\n",
       "      <th>8</th>\n",
       "      <td>Cameron Green</td>\n",
       "      <td>160.283688</td>\n",
       "    </tr>\n",
       "    <tr>\n",
       "      <th>9</th>\n",
       "      <td>Vijay Shankar</td>\n",
       "      <td>160.106383</td>\n",
       "    </tr>\n",
       "  </tbody>\n",
       "</table>\n",
       "</div>"
      ],
      "text/plain": [
       "              Batsman  StrikeRate\n",
       "0       Glenn Maxwell  183.486239\n",
       "1    Suryakumar Yadav  181.877023\n",
       "2  Heinrich Klaasen †  177.075099\n",
       "3      Ajinkya Rahane  172.486772\n",
       "4         Tilak Varma  164.114833\n",
       "5    Yashasvi Jaiswal  163.612565\n",
       "6   Nicholas Pooran †  163.333333\n",
       "7    Liam Livingstone  163.157895\n",
       "8       Cameron Green  160.283688\n",
       "9       Vijay Shankar  160.106383"
      ]
     },
     "execution_count": 2966,
     "metadata": {},
     "output_type": "execute_result"
    }
   ],
   "source": [
    "Batsman_topstrikerate"
   ]
  },
  {
   "cell_type": "code",
   "execution_count": 2969,
   "id": "93e39fe3",
   "metadata": {},
   "outputs": [
    {
     "data": {
      "image/png": "[encoded data removed]",
      "text/plain": [
       "<Figure size 720x432 with 1 Axes>"
      ]
     },
     "metadata": {
      "needs_background": "light"
     },
     "output_type": "display_data"
    }
   ],
   "source": [
    "plt.figure(figsize=(10, 6))\n",
    "sns.lineplot(data=Batsman_topstrikerate.head(5), x='Batsman', y='StrikeRate', marker='o')\n",
    "plt.xlabel('Batsman')\n",
    "plt.ylabel('StrikeRate')\n",
    "plt.title('Batsman with highest strikerate')\n",
    "plt.xticks(rotation=45)\n",
    "plt.show()\n"
   ]
  },
  {
   "cell_type": "code",
   "execution_count": 2880,
   "id": "c3dd2ca8",
   "metadata": {},
   "outputs": [],
   "source": [
    "bowler_counts = df['bowler'].value_counts().reset_index()[1:]\n"
   ]
  },
  {
   "cell_type": "code",
   "execution_count": 2881,
   "id": "40f18f02",
   "metadata": {},
   "outputs": [],
   "source": [
    "desired_rows = df[df['bowler'] == 'Sharma']\n"
   ]
  },
  {
   "cell_type": "code",
   "execution_count": 2882,
   "id": "8e861adf",
   "metadata": {},
   "outputs": [
    {
     "data": {
      "text/plain": [
       "(47, 11)"
      ]
     },
     "execution_count": 2882,
     "metadata": {},
     "output_type": "execute_result"
    }
   ],
   "source": [
    "desired_rows.shape"
   ]
  },
  {
   "cell_type": "code",
   "execution_count": 2883,
   "id": "9a5b5165",
   "metadata": {},
   "outputs": [
    {
     "name": "stderr",
     "output_type": "stream",
     "text": [
      "C:\\ProgramData\\Anaconda3\\lib\\site-packages\\pandas\\core\\indexing.py:1817: SettingWithCopyWarning: \n",
      "A value is trying to be set on a copy of a slice from a DataFrame.\n",
      "Try using .loc[row_indexer,col_indexer] = value instead\n",
      "\n",
      "See the caveats in the documentation: https://pandas.pydata.org/pandas-docs/stable/user_guide/indexing.html#returning-a-view-versus-a-copy\n",
      "  self._setitem_single_column(loc, value, pi)\n"
     ]
    }
   ],
   "source": [
    "desired_rows.loc[(desired_rows['Match'] == 'Punjab Kings Vs Titans') & (desired_rows['Team'] == 'Punjab Kings'), 'bowler'] = 'mohitsharma'\n"
   ]
  },
  {
   "cell_type": "code",
   "execution_count": 2884,
   "id": "c7e55f06",
   "metadata": {},
   "outputs": [],
   "source": [
    "desired_rows.loc[(desired_rows['Match'] == 'Capitals Vs KKR') & (desired_rows['Team'] == 'Kolkata Knight Riders'), 'bowler'] = 'Ishantsharma'\n"
   ]
  },
  {
   "cell_type": "code",
   "execution_count": 2885,
   "id": "ab828d2b",
   "metadata": {},
   "outputs": [],
   "source": [
    "desired_rows.loc[(desired_rows['Match'] == 'RCB Vs Mumbai') & (desired_rows['Team'] == 'Mumbai Indians'), 'bowler'] = 'KV Sharma'\n"
   ]
  },
  {
   "cell_type": "code",
   "execution_count": 2886,
   "id": "89058b7b",
   "metadata": {},
   "outputs": [],
   "source": [
    "desired_rows.loc[(desired_rows['Match'] == 'KKR Vs RCB') & (desired_rows['Team'] == 'Kolkata Knight Riders'), 'bowler'] = 'KV Sharma'\n"
   ]
  },
  {
   "cell_type": "code",
   "execution_count": 2887,
   "id": "5da00f48",
   "metadata": {},
   "outputs": [],
   "source": [
    "desired_rows.loc[(desired_rows['Match'] == 'Capitals Vs Sunrisers') & (desired_rows['Team'] == 'Sunrisers Hyderabad'), 'bowler'] = 'Ishantsharma'\n"
   ]
  },
  {
   "cell_type": "code",
   "execution_count": 2888,
   "id": "66403926",
   "metadata": {},
   "outputs": [],
   "source": [
    "desired_rows.loc[(desired_rows['Match'] == 'Titans Vs Capitals') & (desired_rows['Team'] == 'Titans'), 'bowler'] = 'Ishantsharma'\n"
   ]
  },
  {
   "cell_type": "code",
   "execution_count": 2889,
   "id": "5d4ff525",
   "metadata": {},
   "outputs": [],
   "source": [
    "desired_rows.loc[((desired_rows['Match'] == 'Titans Vs Mumbai') | (desired_rows['Match'] == 'Titans Vs Super Kings') | (desired_rows['Match'] == 'Titans Vs Capitals') | (desired_rows['Match'] == 'Mumbai Vs Titans') | (desired_rows['Match'] == 'Super Kings Vs Titans')) & ((desired_rows['Team'] == 'Mumbai') | (desired_rows['Team'] == 'Super kings') | (desired_rows['Team'] == 'Delhi Capitals') | (desired_rows['Team'] == 'Mumbai Indians') | (desired_rows['Team'] == 'Chennai Super Kings')), 'bowler'] = 'mohitsharma'\n"
   ]
  },
  {
   "cell_type": "code",
   "execution_count": 2890,
   "id": "9cb6ca3d",
   "metadata": {},
   "outputs": [],
   "source": [
    "desired_rows.loc[((desired_rows['Match'] == 'Capitals Vs Punjab Kings') & (desired_rows['Team'] == 'Punjab Kings')) | ((desired_rows['Match'] == 'Sunrisers Vs Capitals') & (desired_rows['Team'] == 'Sunrisers')) | ((desired_rows['Match'] == 'Punjab Kings Vs Capitals') & (desired_rows['Team'] == 'Punjab Kings')), 'bowler'] = 'Ishantsharma'\n",
    "\n"
   ]
  },
  {
   "cell_type": "code",
   "execution_count": 2891,
   "id": "1f3fddb2",
   "metadata": {},
   "outputs": [],
   "source": [
    "desired_rows.loc[((desired_rows['Match'] == 'RCB Vs Super Giants') | (desired_rows['Match'] == 'Super Giants Vs RCB') | (desired_rows['Match'] == 'Super Giants Vs Titans')) & (desired_rows['Team'] == 'Super Giants'), 'bowler'] = 'KV Sharma'\n",
    "\n"
   ]
  },
  {
   "cell_type": "code",
   "execution_count": 2892,
   "id": "c8559efc",
   "metadata": {},
   "outputs": [],
   "source": [
    "desired_rows.loc[((desired_rows['Match'] == 'Titans Vs Mumbai') | (desired_rows['Match'] == 'Titans Vs Super Kings') | (desired_rows['Match'] == 'Titans Vs Capitals') | (desired_rows['Match'] == 'Mumbai Vs Titans') | (desired_rows['Match'] == 'Super Kings Vs Titans') | (desired_rows['Match'] == 'Super Giants Vs RCB') | (desired_rows['Match'] == 'Super Giants Vs Titans') | (desired_rows['Match'] == 'Titans Vs Super Giants') | (desired_rows['Match'] == 'Titans Vs Sunrisers')) & ((desired_rows['Team'] == 'Mumbai') | (desired_rows['Team'] == 'Super kings') | (desired_rows['Team'] == 'Delhi Capitals') | (desired_rows['Team'] == 'Mumbai Indians') | (desired_rows['Team'] == 'Chennai Super Kings') | (desired_rows['Team'] == 'Super Giants') | (desired_rows['Team'] == 'Sunrisers')), 'bowler'] = 'mohitsharma'\n",
    "desired_rows.loc[((desired_rows['Match'] == 'RCB Vs Super Giants') | (desired_rows['Match'] == 'Super Giants Vs RCB') | (desired_rows['Match'] == 'Super Giants Vs Titans') | (desired_rows['Match'] == 'Titans Vs Super Giants') | (desired_rows['Match'] == 'Titans Vs Sunrisers')) & (desired_rows['Team'] == 'Super Giants'), 'bowler'] = 'mohitsharma'\n",
    "desired_rows.loc[((desired_rows['Match'] == 'Titans Vs Super Kings') & (desired_rows['Team'] == 'Super Kings')), 'bowler'] = 'mohitsharma'\n"
   ]
  },
  {
   "cell_type": "code",
   "execution_count": 2893,
   "id": "598c4fd2",
   "metadata": {},
   "outputs": [],
   "source": [
    "desired_rows.loc[((desired_rows['Match'] == 'RCB Vs Super Giants') | (desired_rows['Match'] == 'Super Giants Vs RCB') | (desired_rows['Match'] == 'Capitals Vs RCB') | (desired_rows['Match'] == 'Royals Vs RCB')) & ((desired_rows['Team'] == 'Super Giants') | (desired_rows['Team'] == 'Capitals') | (desired_rows['Team'] == 'Royals')), 'bowler'] = 'KV Sharma'\n",
    "\n"
   ]
  },
  {
   "cell_type": "code",
   "execution_count": 2894,
   "id": "a83390a1",
   "metadata": {},
   "outputs": [],
   "source": [
    "Wickets = desired_rows['bowler'].value_counts()\n"
   ]
  },
  {
   "cell_type": "code",
   "execution_count": 2895,
   "id": "5671cd42",
   "metadata": {},
   "outputs": [],
   "source": [
    "df_wickets = pd.DataFrame(Wickets)\n"
   ]
  },
  {
   "cell_type": "code",
   "execution_count": 2896,
   "id": "bb839dd1",
   "metadata": {},
   "outputs": [],
   "source": [
    "df_wickets = df_wickets.reset_index()"
   ]
  },
  {
   "cell_type": "code",
   "execution_count": 2897,
   "id": "8a8cdc06",
   "metadata": {},
   "outputs": [],
   "source": [
    "df_wickets = df_wickets.rename(columns={'index':'bowler','bowler':'wickets'})"
   ]
  },
  {
   "cell_type": "code",
   "execution_count": 2898,
   "id": "95780267",
   "metadata": {},
   "outputs": [],
   "source": [
    "\n",
    "bowler_counts = bowler_counts.rename(columns={'index':'bowler','bowler':'wickets'})"
   ]
  },
  {
   "cell_type": "code",
   "execution_count": 2899,
   "id": "2ff26659",
   "metadata": {},
   "outputs": [],
   "source": [
    "concatenated_df = pd.concat([df_wickets, bowler_counts])\n"
   ]
  },
  {
   "cell_type": "code",
   "execution_count": 2900,
   "id": "3daa9180",
   "metadata": {},
   "outputs": [],
   "source": [
    "concatenated_df_sorted = concatenated_df.sort_values(by='wickets', ascending=False)\n"
   ]
  },
  {
   "cell_type": "code",
   "execution_count": 2901,
   "id": "4b8c9849",
   "metadata": {},
   "outputs": [],
   "source": [
    "concatenated_df_sorted = concatenated_df_sorted.drop(1)\n"
   ]
  },
  {
   "cell_type": "code",
   "execution_count": 2902,
   "id": "82a0bc94",
   "metadata": {},
   "outputs": [],
   "source": [
    "concatenated_df_sorted = concatenated_df_sorted.reset_index()"
   ]
  },
  {
   "cell_type": "code",
   "execution_count": 2903,
   "id": "a83b35bb",
   "metadata": {},
   "outputs": [],
   "source": [
    "concatenated_df_sorted = concatenated_df_sorted.drop(['index'],axis=1)"
   ]
  },
  {
   "cell_type": "code",
   "execution_count": 2904,
   "id": "b7980ab4",
   "metadata": {},
   "outputs": [],
   "source": [
    "#concatenated_df_sorted"
   ]
  },
  {
   "cell_type": "code",
   "execution_count": 2978,
   "id": "9ce4dc5a",
   "metadata": {},
   "outputs": [
    {
     "data": {
      "image/png": "[encoded data removed]",
      "text/plain": [
       "<Figure size 720x432 with 1 Axes>"
      ]
     },
     "metadata": {
      "needs_background": "light"
     },
     "output_type": "display_data"
    }
   ],
   "source": [
    "plt.figure(figsize=(10, 6))\n",
    "sns.boxplot(data=concatenated_df_sorted.head(5), x='bowler', y='wickets')\n",
    "# Add data labels\n",
    "for i in range(concatenated_df_sorted.head(5).shape[0]):\n",
    "    plt.text(i, concatenated_df_sorted.head(5)['wickets'].iloc[i], \n",
    "             concatenated_df_sorted.head(5)['wickets'].iloc[i], \n",
    "             ha='center', va='bottom')\n",
    "plt.xlabel('Bowler')\n",
    "plt.ylabel('Wickets')\n",
    "plt.title('Highest Wicket Takers')\n",
    "plt.xticks(rotation=45)\n",
    "plt.show()\n"
   ]
  },
  {
   "cell_type": "code",
   "execution_count": 2909,
   "id": "2ec628aa",
   "metadata": {},
   "outputs": [
    {
     "data": {
      "text/html": [
       "<div>\n",
       "<style scoped>\n",
       "    .dataframe tbody tr th:only-of-type {\n",
       "        vertical-align: middle;\n",
       "    }\n",
       "\n",
       "    .dataframe tbody tr th {\n",
       "        vertical-align: top;\n",
       "    }\n",
       "\n",
       "    .dataframe thead th {\n",
       "        text-align: right;\n",
       "    }\n",
       "</style>\n",
       "<table border=\"1\" class=\"dataframe\">\n",
       "  <thead>\n",
       "    <tr style=\"text-align: right;\">\n",
       "      <th></th>\n",
       "      <th>Match</th>\n",
       "      <th>Team</th>\n",
       "      <th>Batsman</th>\n",
       "      <th>Dismissal</th>\n",
       "      <th>Runs_Scored</th>\n",
       "      <th>Balls</th>\n",
       "      <th>4s</th>\n",
       "      <th>6s</th>\n",
       "      <th>StrikeRate</th>\n",
       "      <th>Type_Dismissal</th>\n",
       "      <th>bowler</th>\n",
       "    </tr>\n",
       "  </thead>\n",
       "  <tbody>\n",
       "    <tr>\n",
       "      <th>0</th>\n",
       "      <td>Titans Vs Super Kings</td>\n",
       "      <td>Chennai Super Kings</td>\n",
       "      <td>Devon Conway</td>\n",
       "      <td>b Mohammed Shami</td>\n",
       "      <td>1</td>\n",
       "      <td>6</td>\n",
       "      <td>0</td>\n",
       "      <td>0</td>\n",
       "      <td>16.66</td>\n",
       "      <td>Bowled</td>\n",
       "      <td>Mohammed Shami</td>\n",
       "    </tr>\n",
       "    <tr>\n",
       "      <th>1</th>\n",
       "      <td>Titans Vs Super Kings</td>\n",
       "      <td>Chennai Super Kings</td>\n",
       "      <td>Ruturaj Gaikwad</td>\n",
       "      <td>c Shubman Gill b Joseph</td>\n",
       "      <td>92</td>\n",
       "      <td>50</td>\n",
       "      <td>4</td>\n",
       "      <td>9</td>\n",
       "      <td>184.00</td>\n",
       "      <td>Caught</td>\n",
       "      <td>Joseph</td>\n",
       "    </tr>\n",
       "    <tr>\n",
       "      <th>2</th>\n",
       "      <td>Titans Vs Super Kings</td>\n",
       "      <td>Chennai Super Kings</td>\n",
       "      <td>Moeen Ali</td>\n",
       "      <td>c †Saha b Rashid Khan</td>\n",
       "      <td>23</td>\n",
       "      <td>17</td>\n",
       "      <td>4</td>\n",
       "      <td>1</td>\n",
       "      <td>135.29</td>\n",
       "      <td>Caught</td>\n",
       "      <td>Rashid Khan</td>\n",
       "    </tr>\n",
       "    <tr>\n",
       "      <th>3</th>\n",
       "      <td>Titans Vs Super Kings</td>\n",
       "      <td>Chennai Super Kings</td>\n",
       "      <td>Ben Stokes</td>\n",
       "      <td>c †Saha b Rashid Khan</td>\n",
       "      <td>7</td>\n",
       "      <td>6</td>\n",
       "      <td>1</td>\n",
       "      <td>0</td>\n",
       "      <td>116.66</td>\n",
       "      <td>Caught</td>\n",
       "      <td>Rashid Khan</td>\n",
       "    </tr>\n",
       "    <tr>\n",
       "      <th>4</th>\n",
       "      <td>Titans Vs Super Kings</td>\n",
       "      <td>Chennai Super Kings</td>\n",
       "      <td>Ambati Rayudu</td>\n",
       "      <td>b Little</td>\n",
       "      <td>12</td>\n",
       "      <td>12</td>\n",
       "      <td>0</td>\n",
       "      <td>1</td>\n",
       "      <td>100.00</td>\n",
       "      <td>Bowled</td>\n",
       "      <td>Little</td>\n",
       "    </tr>\n",
       "    <tr>\n",
       "      <th>...</th>\n",
       "      <td>...</td>\n",
       "      <td>...</td>\n",
       "      <td>...</td>\n",
       "      <td>...</td>\n",
       "      <td>...</td>\n",
       "      <td>...</td>\n",
       "      <td>...</td>\n",
       "      <td>...</td>\n",
       "      <td>...</td>\n",
       "      <td>...</td>\n",
       "      <td>...</td>\n",
       "    </tr>\n",
       "    <tr>\n",
       "      <th>1176</th>\n",
       "      <td>Titans Vs Super Kings</td>\n",
       "      <td>Super Kings</td>\n",
       "      <td>Shivam Dube</td>\n",
       "      <td>not out</td>\n",
       "      <td>32</td>\n",
       "      <td>21</td>\n",
       "      <td>0</td>\n",
       "      <td>2</td>\n",
       "      <td>152.38</td>\n",
       "      <td>not out</td>\n",
       "      <td>not out</td>\n",
       "    </tr>\n",
       "    <tr>\n",
       "      <th>1177</th>\n",
       "      <td>Titans Vs Super Kings</td>\n",
       "      <td>Super Kings</td>\n",
       "      <td>Ajinkya Rahane</td>\n",
       "      <td>c Shankar b Sharma</td>\n",
       "      <td>27</td>\n",
       "      <td>13</td>\n",
       "      <td>2</td>\n",
       "      <td>2</td>\n",
       "      <td>207.69</td>\n",
       "      <td>Caught</td>\n",
       "      <td>Sharma</td>\n",
       "    </tr>\n",
       "    <tr>\n",
       "      <th>1178</th>\n",
       "      <td>Titans Vs Super Kings</td>\n",
       "      <td>Super Kings</td>\n",
       "      <td>Ambati Rayudu</td>\n",
       "      <td>c &amp; b Sharma</td>\n",
       "      <td>19</td>\n",
       "      <td>8</td>\n",
       "      <td>1</td>\n",
       "      <td>2</td>\n",
       "      <td>237.50</td>\n",
       "      <td>Caught</td>\n",
       "      <td>Sharma</td>\n",
       "    </tr>\n",
       "    <tr>\n",
       "      <th>1179</th>\n",
       "      <td>Titans Vs Super Kings</td>\n",
       "      <td>Super Kings</td>\n",
       "      <td>MS Dhoni (c)†</td>\n",
       "      <td>c Miller b Sharma</td>\n",
       "      <td>0</td>\n",
       "      <td>1</td>\n",
       "      <td>0</td>\n",
       "      <td>0</td>\n",
       "      <td>0.00</td>\n",
       "      <td>Caught</td>\n",
       "      <td>Sharma</td>\n",
       "    </tr>\n",
       "    <tr>\n",
       "      <th>1180</th>\n",
       "      <td>Titans Vs Super Kings</td>\n",
       "      <td>Super Kings</td>\n",
       "      <td>Ravindra Jadeja</td>\n",
       "      <td>not out</td>\n",
       "      <td>15</td>\n",
       "      <td>6</td>\n",
       "      <td>1</td>\n",
       "      <td>1</td>\n",
       "      <td>250.00</td>\n",
       "      <td>not out</td>\n",
       "      <td>not out</td>\n",
       "    </tr>\n",
       "  </tbody>\n",
       "</table>\n",
       "<p>1181 rows × 11 columns</p>\n",
       "</div>"
      ],
      "text/plain": [
       "                      Match                 Team          Batsman  \\\n",
       "0     Titans Vs Super Kings  Chennai Super Kings     Devon Conway   \n",
       "1     Titans Vs Super Kings  Chennai Super Kings  Ruturaj Gaikwad   \n",
       "2     Titans Vs Super Kings  Chennai Super Kings        Moeen Ali   \n",
       "3     Titans Vs Super Kings  Chennai Super Kings       Ben Stokes   \n",
       "4     Titans Vs Super Kings  Chennai Super Kings    Ambati Rayudu   \n",
       "...                     ...                  ...              ...   \n",
       "1176  Titans Vs Super Kings          Super Kings      Shivam Dube   \n",
       "1177  Titans Vs Super Kings          Super Kings   Ajinkya Rahane   \n",
       "1178  Titans Vs Super Kings          Super Kings    Ambati Rayudu   \n",
       "1179  Titans Vs Super Kings          Super Kings    MS Dhoni (c)†   \n",
       "1180  Titans Vs Super Kings          Super Kings  Ravindra Jadeja   \n",
       "\n",
       "                    Dismissal  Runs_Scored  Balls  4s  6s StrikeRate  \\\n",
       "0            b Mohammed Shami            1      6   0   0      16.66   \n",
       "1     c Shubman Gill b Joseph           92     50   4   9     184.00   \n",
       "2       c †Saha b Rashid Khan           23     17   4   1     135.29   \n",
       "3       c †Saha b Rashid Khan            7      6   1   0     116.66   \n",
       "4                    b Little           12     12   0   1     100.00   \n",
       "...                       ...          ...    ...  ..  ..        ...   \n",
       "1176                  not out           32     21   0   2     152.38   \n",
       "1177       c Shankar b Sharma           27     13   2   2     207.69   \n",
       "1178             c & b Sharma           19      8   1   2     237.50   \n",
       "1179        c Miller b Sharma            0      1   0   0       0.00   \n",
       "1180                  not out           15      6   1   1     250.00   \n",
       "\n",
       "     Type_Dismissal          bowler  \n",
       "0            Bowled  Mohammed Shami  \n",
       "1            Caught          Joseph  \n",
       "2            Caught     Rashid Khan  \n",
       "3            Caught     Rashid Khan  \n",
       "4            Bowled          Little  \n",
       "...             ...             ...  \n",
       "1176        not out         not out  \n",
       "1177         Caught          Sharma  \n",
       "1178         Caught          Sharma  \n",
       "1179         Caught          Sharma  \n",
       "1180        not out         not out  \n",
       "\n",
       "[1181 rows x 11 columns]"
      ]
     },
     "execution_count": 2909,
     "metadata": {},
     "output_type": "execute_result"
    }
   ],
   "source": [
    "df"
   ]
  },
  {
   "cell_type": "code",
   "execution_count": 2928,
   "id": "6fc14acf",
   "metadata": {},
   "outputs": [],
   "source": [
    "filtered_df = df[df['Type_Dismissal'] == \"Bowled\"]\n"
   ]
  },
  {
   "cell_type": "code",
   "execution_count": 2929,
   "id": "7fd5dd26",
   "metadata": {},
   "outputs": [
    {
     "data": {
      "text/html": [
       "<div>\n",
       "<style scoped>\n",
       "    .dataframe tbody tr th:only-of-type {\n",
       "        vertical-align: middle;\n",
       "    }\n",
       "\n",
       "    .dataframe tbody tr th {\n",
       "        vertical-align: top;\n",
       "    }\n",
       "\n",
       "    .dataframe thead th {\n",
       "        text-align: right;\n",
       "    }\n",
       "</style>\n",
       "<table border=\"1\" class=\"dataframe\">\n",
       "  <thead>\n",
       "    <tr style=\"text-align: right;\">\n",
       "      <th></th>\n",
       "      <th>Match</th>\n",
       "      <th>Team</th>\n",
       "      <th>Batsman</th>\n",
       "      <th>Dismissal</th>\n",
       "      <th>Runs_Scored</th>\n",
       "      <th>Balls</th>\n",
       "      <th>4s</th>\n",
       "      <th>6s</th>\n",
       "      <th>StrikeRate</th>\n",
       "      <th>Type_Dismissal</th>\n",
       "      <th>bowler</th>\n",
       "    </tr>\n",
       "  </thead>\n",
       "  <tbody>\n",
       "    <tr>\n",
       "      <th>0</th>\n",
       "      <td>Titans Vs Super Kings</td>\n",
       "      <td>Chennai Super Kings</td>\n",
       "      <td>Devon Conway</td>\n",
       "      <td>b Mohammed Shami</td>\n",
       "      <td>1</td>\n",
       "      <td>6</td>\n",
       "      <td>0</td>\n",
       "      <td>0</td>\n",
       "      <td>16.66</td>\n",
       "      <td>Bowled</td>\n",
       "      <td>Mohammed Shami</td>\n",
       "    </tr>\n",
       "    <tr>\n",
       "      <th>4</th>\n",
       "      <td>Titans Vs Super Kings</td>\n",
       "      <td>Chennai Super Kings</td>\n",
       "      <td>Ambati Rayudu</td>\n",
       "      <td>b Little</td>\n",
       "      <td>12</td>\n",
       "      <td>12</td>\n",
       "      <td>0</td>\n",
       "      <td>1</td>\n",
       "      <td>100.00</td>\n",
       "      <td>Bowled</td>\n",
       "      <td>Little</td>\n",
       "    </tr>\n",
       "    <tr>\n",
       "      <th>10</th>\n",
       "      <td>Punjab Kings Vs KKR</td>\n",
       "      <td>Punjab Kings</td>\n",
       "      <td>Shikhar Dhawan (c)</td>\n",
       "      <td>b Varun</td>\n",
       "      <td>40</td>\n",
       "      <td>29</td>\n",
       "      <td>6</td>\n",
       "      <td>0</td>\n",
       "      <td>137.93</td>\n",
       "      <td>Bowled</td>\n",
       "      <td>Varun</td>\n",
       "    </tr>\n",
       "    <tr>\n",
       "      <th>17</th>\n",
       "      <td>Super Giants Vs Capitals</td>\n",
       "      <td>Lucknow Super Giants</td>\n",
       "      <td>Kyle Mayers</td>\n",
       "      <td>b Patel</td>\n",
       "      <td>73</td>\n",
       "      <td>38</td>\n",
       "      <td>2</td>\n",
       "      <td>7</td>\n",
       "      <td>192.10</td>\n",
       "      <td>Bowled</td>\n",
       "      <td>Patel</td>\n",
       "    </tr>\n",
       "    <tr>\n",
       "      <th>25</th>\n",
       "      <td>Sunrisers Vs Royals</td>\n",
       "      <td>Rajasthan Royals</td>\n",
       "      <td>Jos Buttler</td>\n",
       "      <td>b Fazalhaq Farooqi</td>\n",
       "      <td>54</td>\n",
       "      <td>22</td>\n",
       "      <td>7</td>\n",
       "      <td>3</td>\n",
       "      <td>245.45</td>\n",
       "      <td>Bowled</td>\n",
       "      <td>Fazalhaq Farooqi</td>\n",
       "    </tr>\n",
       "    <tr>\n",
       "      <th>...</th>\n",
       "      <td>...</td>\n",
       "      <td>...</td>\n",
       "      <td>...</td>\n",
       "      <td>...</td>\n",
       "      <td>...</td>\n",
       "      <td>...</td>\n",
       "      <td>...</td>\n",
       "      <td>...</td>\n",
       "      <td>...</td>\n",
       "      <td>...</td>\n",
       "      <td>...</td>\n",
       "    </tr>\n",
       "    <tr>\n",
       "      <th>1156</th>\n",
       "      <td>Super Giants Vs Mumbai</td>\n",
       "      <td>Super Giants</td>\n",
       "      <td>Ayush Badoni</td>\n",
       "      <td>b Madhwal</td>\n",
       "      <td>1</td>\n",
       "      <td>7</td>\n",
       "      <td>0</td>\n",
       "      <td>0</td>\n",
       "      <td>14.28</td>\n",
       "      <td>Bowled</td>\n",
       "      <td>Madhwal</td>\n",
       "    </tr>\n",
       "    <tr>\n",
       "      <th>1162</th>\n",
       "      <td>Super Giants Vs Mumbai</td>\n",
       "      <td>Super Giants</td>\n",
       "      <td>Mohsin Khan</td>\n",
       "      <td>b Madhwal</td>\n",
       "      <td>0</td>\n",
       "      <td>7</td>\n",
       "      <td>0</td>\n",
       "      <td>0</td>\n",
       "      <td>0.00</td>\n",
       "      <td>Bowled</td>\n",
       "      <td>Madhwal</td>\n",
       "    </tr>\n",
       "    <tr>\n",
       "      <th>1165</th>\n",
       "      <td>Titans Vs Mumbai</td>\n",
       "      <td>Mumbai</td>\n",
       "      <td>Cameron Green</td>\n",
       "      <td>b Little</td>\n",
       "      <td>30</td>\n",
       "      <td>20</td>\n",
       "      <td>2</td>\n",
       "      <td>2</td>\n",
       "      <td>150.00</td>\n",
       "      <td>Bowled</td>\n",
       "      <td>Little</td>\n",
       "    </tr>\n",
       "    <tr>\n",
       "      <th>1166</th>\n",
       "      <td>Titans Vs Mumbai</td>\n",
       "      <td>Mumbai</td>\n",
       "      <td>Suryakumar Yadav</td>\n",
       "      <td>b Sharma</td>\n",
       "      <td>61</td>\n",
       "      <td>38</td>\n",
       "      <td>7</td>\n",
       "      <td>2</td>\n",
       "      <td>160.52</td>\n",
       "      <td>Bowled</td>\n",
       "      <td>Sharma</td>\n",
       "    </tr>\n",
       "    <tr>\n",
       "      <th>1167</th>\n",
       "      <td>Titans Vs Mumbai</td>\n",
       "      <td>Mumbai</td>\n",
       "      <td>Tilak Varma</td>\n",
       "      <td>b Rashid Khan</td>\n",
       "      <td>43</td>\n",
       "      <td>14</td>\n",
       "      <td>5</td>\n",
       "      <td>3</td>\n",
       "      <td>307.14</td>\n",
       "      <td>Bowled</td>\n",
       "      <td>Rashid Khan</td>\n",
       "    </tr>\n",
       "  </tbody>\n",
       "</table>\n",
       "<p>145 rows × 11 columns</p>\n",
       "</div>"
      ],
      "text/plain": [
       "                         Match                  Team             Batsman  \\\n",
       "0        Titans Vs Super Kings   Chennai Super Kings        Devon Conway   \n",
       "4        Titans Vs Super Kings   Chennai Super Kings       Ambati Rayudu   \n",
       "10         Punjab Kings Vs KKR          Punjab Kings  Shikhar Dhawan (c)   \n",
       "17    Super Giants Vs Capitals  Lucknow Super Giants         Kyle Mayers   \n",
       "25         Sunrisers Vs Royals      Rajasthan Royals         Jos Buttler   \n",
       "...                        ...                   ...                 ...   \n",
       "1156    Super Giants Vs Mumbai          Super Giants        Ayush Badoni   \n",
       "1162    Super Giants Vs Mumbai          Super Giants         Mohsin Khan   \n",
       "1165          Titans Vs Mumbai                Mumbai       Cameron Green   \n",
       "1166          Titans Vs Mumbai                Mumbai    Suryakumar Yadav   \n",
       "1167          Titans Vs Mumbai                Mumbai         Tilak Varma   \n",
       "\n",
       "               Dismissal  Runs_Scored  Balls  4s  6s StrikeRate  \\\n",
       "0       b Mohammed Shami            1      6   0   0      16.66   \n",
       "4               b Little           12     12   0   1     100.00   \n",
       "10               b Varun           40     29   6   0     137.93   \n",
       "17               b Patel           73     38   2   7     192.10   \n",
       "25    b Fazalhaq Farooqi           54     22   7   3     245.45   \n",
       "...                  ...          ...    ...  ..  ..        ...   \n",
       "1156           b Madhwal            1      7   0   0      14.28   \n",
       "1162           b Madhwal            0      7   0   0       0.00   \n",
       "1165            b Little           30     20   2   2     150.00   \n",
       "1166            b Sharma           61     38   7   2     160.52   \n",
       "1167       b Rashid Khan           43     14   5   3     307.14   \n",
       "\n",
       "     Type_Dismissal            bowler  \n",
       "0            Bowled    Mohammed Shami  \n",
       "4            Bowled            Little  \n",
       "10           Bowled             Varun  \n",
       "17           Bowled             Patel  \n",
       "25           Bowled  Fazalhaq Farooqi  \n",
       "...             ...               ...  \n",
       "1156         Bowled           Madhwal  \n",
       "1162         Bowled           Madhwal  \n",
       "1165         Bowled            Little  \n",
       "1166         Bowled            Sharma  \n",
       "1167         Bowled       Rashid Khan  \n",
       "\n",
       "[145 rows x 11 columns]"
      ]
     },
     "execution_count": 2929,
     "metadata": {},
     "output_type": "execute_result"
    }
   ],
   "source": [
    "filtered_df"
   ]
  },
  {
   "cell_type": "code",
   "execution_count": 2930,
   "id": "0a311709",
   "metadata": {},
   "outputs": [],
   "source": [
    "Bowled_counts = filtered_df.groupby(['bowler', 'Type_Dismissal']).size().reset_index(name='Bowled_counts').sort_values('Bowled_counts', ascending=False)\n"
   ]
  },
  {
   "cell_type": "code",
   "execution_count": 2931,
   "id": "96685eda",
   "metadata": {},
   "outputs": [
    {
     "data": {
      "text/html": [
       "<div>\n",
       "<style scoped>\n",
       "    .dataframe tbody tr th:only-of-type {\n",
       "        vertical-align: middle;\n",
       "    }\n",
       "\n",
       "    .dataframe tbody tr th {\n",
       "        vertical-align: top;\n",
       "    }\n",
       "\n",
       "    .dataframe thead th {\n",
       "        text-align: right;\n",
       "    }\n",
       "</style>\n",
       "<table border=\"1\" class=\"dataframe\">\n",
       "  <thead>\n",
       "    <tr style=\"text-align: right;\">\n",
       "      <th></th>\n",
       "      <th>bowler</th>\n",
       "      <th>Type_Dismissal</th>\n",
       "      <th>Bowled_counts</th>\n",
       "    </tr>\n",
       "  </thead>\n",
       "  <tbody>\n",
       "    <tr>\n",
       "      <th>39</th>\n",
       "      <td>Rashid Khan</td>\n",
       "      <td>Bowled</td>\n",
       "      <td>8</td>\n",
       "    </tr>\n",
       "    <tr>\n",
       "      <th>50</th>\n",
       "      <td>Varun</td>\n",
       "      <td>Bowled</td>\n",
       "      <td>7</td>\n",
       "    </tr>\n",
       "    <tr>\n",
       "      <th>44</th>\n",
       "      <td>Sharma</td>\n",
       "      <td>Bowled</td>\n",
       "      <td>6</td>\n",
       "    </tr>\n",
       "    <tr>\n",
       "      <th>35</th>\n",
       "      <td>Patel</td>\n",
       "      <td>Bowled</td>\n",
       "      <td>6</td>\n",
       "    </tr>\n",
       "    <tr>\n",
       "      <th>26</th>\n",
       "      <td>Mohammed Siraj</td>\n",
       "      <td>Bowled</td>\n",
       "      <td>5</td>\n",
       "    </tr>\n",
       "    <tr>\n",
       "      <th>16</th>\n",
       "      <td>Jadeja</td>\n",
       "      <td>Bowled</td>\n",
       "      <td>5</td>\n",
       "    </tr>\n",
       "    <tr>\n",
       "      <th>25</th>\n",
       "      <td>Mohammed Shami</td>\n",
       "      <td>Bowled</td>\n",
       "      <td>5</td>\n",
       "    </tr>\n",
       "    <tr>\n",
       "      <th>22</th>\n",
       "      <td>Madhwal</td>\n",
       "      <td>Bowled</td>\n",
       "      <td>5</td>\n",
       "    </tr>\n",
       "    <tr>\n",
       "      <th>9</th>\n",
       "      <td>Chawla</td>\n",
       "      <td>Bowled</td>\n",
       "      <td>5</td>\n",
       "    </tr>\n",
       "    <tr>\n",
       "      <th>47</th>\n",
       "      <td>Theekshana</td>\n",
       "      <td>Bowled</td>\n",
       "      <td>4</td>\n",
       "    </tr>\n",
       "    <tr>\n",
       "      <th>32</th>\n",
       "      <td>Nortje</td>\n",
       "      <td>Bowled</td>\n",
       "      <td>4</td>\n",
       "    </tr>\n",
       "    <tr>\n",
       "      <th>18</th>\n",
       "      <td>Kartikeya</td>\n",
       "      <td>Bowled</td>\n",
       "      <td>4</td>\n",
       "    </tr>\n",
       "    <tr>\n",
       "      <th>30</th>\n",
       "      <td>Naveen-ul-Haq</td>\n",
       "      <td>Bowled</td>\n",
       "      <td>3</td>\n",
       "    </tr>\n",
       "    <tr>\n",
       "      <th>23</th>\n",
       "      <td>Markande</td>\n",
       "      <td>Bowled</td>\n",
       "      <td>3</td>\n",
       "    </tr>\n",
       "    <tr>\n",
       "      <th>31</th>\n",
       "      <td>Noor Ahmad</td>\n",
       "      <td>Bowled</td>\n",
       "      <td>3</td>\n",
       "    </tr>\n",
       "  </tbody>\n",
       "</table>\n",
       "</div>"
      ],
      "text/plain": [
       "            bowler Type_Dismissal  Bowled_counts\n",
       "39     Rashid Khan         Bowled              8\n",
       "50           Varun         Bowled              7\n",
       "44          Sharma         Bowled              6\n",
       "35           Patel         Bowled              6\n",
       "26  Mohammed Siraj         Bowled              5\n",
       "16          Jadeja         Bowled              5\n",
       "25  Mohammed Shami         Bowled              5\n",
       "22         Madhwal         Bowled              5\n",
       "9           Chawla         Bowled              5\n",
       "47      Theekshana         Bowled              4\n",
       "32          Nortje         Bowled              4\n",
       "18       Kartikeya         Bowled              4\n",
       "30   Naveen-ul-Haq         Bowled              3\n",
       "23        Markande         Bowled              3\n",
       "31      Noor Ahmad         Bowled              3"
      ]
     },
     "execution_count": 2931,
     "metadata": {},
     "output_type": "execute_result"
    }
   ],
   "source": [
    "Bowled_counts[:15]"
   ]
  },
  {
   "cell_type": "code",
   "execution_count": null,
   "id": "3798045c",
   "metadata": {},
   "outputs": [],
   "source": []
  }
 ],
 "metadata": {
  "kernelspec": {
   "display_name": "Python 3 (ipykernel)",
   "language": "python",
   "name": "python3"
  },
  "language_info": {
   "codemirror_mode": {
    "name": "ipython",
    "version": 3
   },
   "file_extension": ".py",
   "mimetype": "text/x-python",
   "name": "python",
   "nbconvert_exporter": "python",
   "pygments_lexer": "ipython3",
   "version": "3.9.7"
  }
 },
 "nbformat": 4,
 "nbformat_minor": 5
}
